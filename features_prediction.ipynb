{
 "cells": [
  {
   "cell_type": "code",
   "execution_count": 1,
   "metadata": {
    "id": "xNeWG8PFEYi6",
    "pycharm": {
     "is_executing": false
    }
   },
   "outputs": [],
   "source": [
    "from collections import defaultdict, Counter\n",
    "import itertools\n",
    "import re\n",
    "import subprocess\n",
    "import pickle\n",
    "import json\n",
    "\n",
    "import matplotlib.pyplot as plt\n",
    "import numpy as np\n",
    "import pandas as pd\n",
    "from scipy.stats import pearsonr\n",
    "from sklearn import linear_model, preprocessing, utils, datasets\n",
    "from sklearn.metrics import accuracy_score, matthews_corrcoef\n",
    "from matplotlib.pyplot import scatter\n",
    "import random\n",
    "from tqdm.notebook import tqdm\n",
    "from stats_count import *"
   ]
  },
  {
   "cell_type": "code",
   "execution_count": 2,
   "metadata": {
    "id": "Hfc19NXUEYi9"
   },
   "outputs": [],
   "source": [
    "import warnings\n",
    "warnings.filterwarnings('ignore')"
   ]
  },
  {
   "cell_type": "markdown",
   "metadata": {
    "id": "Crr3WxyjEYi-"
   },
   "source": [
    "## Parameters"
   ]
  },
  {
   "cell_type": "code",
   "execution_count": 3,
   "metadata": {
    "id": "UWnTe7I1EYjA"
   },
   "outputs": [],
   "source": [
    "np.random.seed(42)\n",
    "random.seed(42)"
   ]
  },
  {
   "cell_type": "code",
   "execution_count": 4,
   "metadata": {
    "id": "U2xhK_rcEYjB"
   },
   "outputs": [],
   "source": [
    "max_examples_to_train = 10**10\n",
    "max_tokens_amount  = 128 # The number of tokens to which the tokenized text is truncated / padded.\n",
    "layers_of_interest = [i for i in range(12)]  # Layers for which attention matrices and features on them are \n",
    "                                             # calculated. For calculating features on all layers, leave it be\n",
    "                                             # [i for i in range(12)]."
   ]
  },
  {
   "cell_type": "code",
   "execution_count": 5,
   "metadata": {
    "id": "6lx5X8sSEYjC"
   },
   "outputs": [],
   "source": [
    "train_subset = \"train_ru\"\n",
    "test_subset  = \"val_ru\" # dev/valid - for hyperparameters tuning;\n",
    "                      # test - for final testing after tuning hyperparameters on the dev set.\n",
    "input_dir = \"./small_gpt_web/\"   # Name of the directory with .csv file\n",
    "model_path = \"bert-base-uncased\"\n",
    "# You can use either standard or fine-tuned BERT. If you want to use fine-tuned BERT to your current task, save the\n",
    "# model and the tokenizer with the commands tokenizer.save_pretrained(output_dir); \n",
    "# bert_classifier.save_pretrained(output_dir) into the same directory and insert the path to it here.\n",
    "\n",
    "old_f_train_file  = input_dir + \"features/\" + train_subset + \\\n",
    "                    \"_all_heads_12_layers_s_e_v_c_b0b1_lists_array_6_thrs_MAX_LEN_128_bert-base-uncased.npy\"\n",
    "old_f_test_file   = input_dir + \"features/\" + test_subset + \\\n",
    "                    \"_all_heads_12_layers_s_e_v_c_b0b1_lists_array_6_thrs_MAX_LEN_128_bert-base-uncased.npy\"\n",
    "ripser_train_file = input_dir + \"features/\" + train_subset + \\\n",
    "                    \"_all_heads_12_layers_MAX_LEN_128_bert-base-uncased_ripser.npy\"\n",
    "ripser_test_file = input_dir + \"features/\" + test_subset + \\\n",
    "                    \"_all_heads_12_layers_MAX_LEN_128_bert-base-uncased_ripser.npy\"\n",
    "templ_train_file  = input_dir + \"features/\" + train_subset + \\\n",
    "                    \"_all_heads_12_layers_MAX_LEN_128_bert-base-uncased_template.npy\"\n",
    "templ_test_file   = input_dir + \"features/\" + test_subset + \\\n",
    "                    \"_all_heads_12_layers_MAX_LEN_128_bert-base-uncased_template.npy\""
   ]
  },
  {
   "cell_type": "code",
   "execution_count": 6,
   "metadata": {
    "id": "NtlJGUNYEYjD"
   },
   "outputs": [],
   "source": [
    "solver  = \"lbfgs\"\n",
    "is_dual = False"
   ]
  },
  {
   "cell_type": "markdown",
   "metadata": {
    "id": "BQBeQ1FsEYjE"
   },
   "source": [
    "## Loading data and features"
   ]
  },
  {
   "cell_type": "code",
   "execution_count": 7,
   "metadata": {
    "id": "FNX4M-jxEYjF"
   },
   "outputs": [],
   "source": [
    "try:\n",
    "    train_data = pd.read_csv(input_dir + train_subset + \".csv\")\n",
    "    test_data = pd.read_csv(input_dir + test_subset + \".csv\")\n",
    "except:\n",
    "    train_data = pd.read_csv(input_dir + train_subset + \".tsv\", delimiter=\"\\t\", header=None)\n",
    "    train_data.columns = [\"0\", \"labels\", \"2\", \"sentence\"]\n",
    "    test_data = pd.read_csv(input_dir + test_subset + \".tsv\", delimiter=\"\\t\")"
   ]
  },
  {
   "cell_type": "code",
   "execution_count": 8,
   "metadata": {
    "id": "pXYg9rHGEYjG"
   },
   "outputs": [],
   "source": [
    "if \"Class\" in train_data.columns:\n",
    "    train_data[\"labels\"] = (train_data[\"Class\"] == \"M\").astype(int)\n",
    "    \n",
    "if \"Class\" in test_data.columns:\n",
    "    test_data[\"labels\"] = (test_data[\"Class\"] == \"M\").astype(int)"
   ]
  },
  {
   "cell_type": "code",
   "execution_count": 9,
   "metadata": {
    "colab": {
     "base_uri": "https://localhost:8080/",
     "height": 424
    },
    "id": "8-SdVqrREYjH",
    "outputId": "bcb1189b-96fa-4869-802e-6dffd82c917d"
   },
   "outputs": [
    {
     "data": {
      "text/html": [
       "<div>\n",
       "<style scoped>\n",
       "    .dataframe tbody tr th:only-of-type {\n",
       "        vertical-align: middle;\n",
       "    }\n",
       "\n",
       "    .dataframe tbody tr th {\n",
       "        vertical-align: top;\n",
       "    }\n",
       "\n",
       "    .dataframe thead th {\n",
       "        text-align: right;\n",
       "    }\n",
       "</style>\n",
       "<table border=\"1\" class=\"dataframe\">\n",
       "  <thead>\n",
       "    <tr style=\"text-align: right;\">\n",
       "      <th></th>\n",
       "      <th>Id</th>\n",
       "      <th>Text</th>\n",
       "      <th>Class</th>\n",
       "      <th>labels</th>\n",
       "    </tr>\n",
       "  </thead>\n",
       "  <tbody>\n",
       "    <tr>\n",
       "      <th>0</th>\n",
       "      <td>9</td>\n",
       "      <td>В связи с этим в подпрограмму включены следующ...</td>\n",
       "      <td>H</td>\n",
       "      <td>0</td>\n",
       "    </tr>\n",
       "    <tr>\n",
       "      <th>1</th>\n",
       "      <td>25</td>\n",
       "      <td>В последнее время я её нечасто видел.</td>\n",
       "      <td>H</td>\n",
       "      <td>0</td>\n",
       "    </tr>\n",
       "    <tr>\n",
       "      <th>2</th>\n",
       "      <td>27</td>\n",
       "      <td>Лермонтов прибыл на Кавказ, чтобы задействоват...</td>\n",
       "      <td>M</td>\n",
       "      <td>1</td>\n",
       "    </tr>\n",
       "    <tr>\n",
       "      <th>3</th>\n",
       "      <td>30</td>\n",
       "      <td>Хотите фруктового сока?</td>\n",
       "      <td>H</td>\n",
       "      <td>0</td>\n",
       "    </tr>\n",
       "    <tr>\n",
       "      <th>4</th>\n",
       "      <td>62</td>\n",
       "      <td>Однако, в рамках существующих условий «...</td>\n",
       "      <td>M</td>\n",
       "      <td>1</td>\n",
       "    </tr>\n",
       "    <tr>\n",
       "      <th>...</th>\n",
       "      <td>...</td>\n",
       "      <td>...</td>\n",
       "      <td>...</td>\n",
       "      <td>...</td>\n",
       "    </tr>\n",
       "    <tr>\n",
       "      <th>21506</th>\n",
       "      <td>215037</td>\n",
       "      <td>Нет, не я, а ты!</td>\n",
       "      <td>H</td>\n",
       "      <td>0</td>\n",
       "    </tr>\n",
       "    <tr>\n",
       "      <th>21507</th>\n",
       "      <td>215040</td>\n",
       "      <td>Кинолента \"Бегущий По Огню\" названа лучшей фил...</td>\n",
       "      <td>M</td>\n",
       "      <td>1</td>\n",
       "    </tr>\n",
       "    <tr>\n",
       "      <th>21508</th>\n",
       "      <td>215052</td>\n",
       "      <td>В настоящее время в городе работает более 200 ...</td>\n",
       "      <td>M</td>\n",
       "      <td>1</td>\n",
       "    </tr>\n",
       "    <tr>\n",
       "      <th>21509</th>\n",
       "      <td>215087</td>\n",
       "      <td>Российская теннисистка Мария Вавринка рассказа...</td>\n",
       "      <td>M</td>\n",
       "      <td>1</td>\n",
       "    </tr>\n",
       "    <tr>\n",
       "      <th>21510</th>\n",
       "      <td>215097</td>\n",
       "      <td>80 лет в неофициальном искусстве СССР.</td>\n",
       "      <td>M</td>\n",
       "      <td>1</td>\n",
       "    </tr>\n",
       "  </tbody>\n",
       "</table>\n",
       "<p>21511 rows × 4 columns</p>\n",
       "</div>"
      ],
      "text/plain": [
       "           Id                                               Text Class  labels\n",
       "0           9  В связи с этим в подпрограмму включены следующ...     H       0\n",
       "1          25              В последнее время я её нечасто видел.     H       0\n",
       "2          27  Лермонтов прибыл на Кавказ, чтобы задействоват...     M       1\n",
       "3          30                            Хотите фруктового сока?     H       0\n",
       "4          62         Однако, в рамках существующих условий «...     M       1\n",
       "...       ...                                                ...   ...     ...\n",
       "21506  215037                                   Нет, не я, а ты!     H       0\n",
       "21507  215040  Кинолента \"Бегущий По Огню\" названа лучшей фил...     M       1\n",
       "21508  215052  В настоящее время в городе работает более 200 ...     M       1\n",
       "21509  215087  Российская теннисистка Мария Вавринка рассказа...     M       1\n",
       "21510  215097             80 лет в неофициальном искусстве СССР.     M       1\n",
       "\n",
       "[21511 rows x 4 columns]"
      ]
     },
     "execution_count": 9,
     "metadata": {},
     "output_type": "execute_result"
    }
   ],
   "source": [
    "y_test = list(map(int, test_data[\"labels\"]))\n",
    "test_data"
   ]
  },
  {
   "cell_type": "markdown",
   "metadata": {
    "id": "xRE5Nh04EYjI"
   },
   "source": [
    "Requirements for .csv files:\n",
    "\n",
    "* .csv file **train_data** must contain the column named **labels**, otherwise LogReg accuracy will not be estimated."
   ]
  },
  {
   "cell_type": "code",
   "execution_count": 10,
   "metadata": {
    "colab": {
     "base_uri": "https://localhost:8080/"
    },
    "id": "yD3vq9KQEYjJ",
    "outputId": "9191515e-2aa8-43bb-a264-5e53680f7069"
   },
   "outputs": [
    {
     "data": {
      "text/plain": [
       "(12, 12, 6, 129066, 6)"
      ]
     },
     "execution_count": 10,
     "metadata": {},
     "output_type": "execute_result"
    }
   ],
   "source": [
    "old_features_train = np.load(old_f_train_file, allow_pickle=True)[:,:,:,:max_examples_to_train,:]\n",
    "old_features_test  = np.load(old_f_test_file, allow_pickle=True)[:,:,:,:max_examples_to_train,:]\n",
    "old_features_train.shape"
   ]
  },
  {
   "cell_type": "code",
   "execution_count": 11,
   "metadata": {
    "colab": {
     "base_uri": "https://localhost:8080/"
    },
    "id": "MUNg7claEYjK",
    "outputId": "7f474132-dbec-49b3-d27a-8101f04f7422"
   },
   "outputs": [
    {
     "data": {
      "text/plain": [
       "(12, 12, 129066, 14)"
      ]
     },
     "execution_count": 11,
     "metadata": {},
     "output_type": "execute_result"
    }
   ],
   "source": [
    "ripser_train = np.load(ripser_train_file, allow_pickle=True)[:,:,:max_examples_to_train,:]\n",
    "ripser_test  = np.load(ripser_test_file, allow_pickle=True)[:,:,:max_examples_to_train,:]\n",
    "ripser_train.shape"
   ]
  },
  {
   "cell_type": "code",
   "execution_count": 12,
   "metadata": {
    "colab": {
     "base_uri": "https://localhost:8080/"
    },
    "id": "h6aex0nTEYjM",
    "outputId": "d068ada1-406a-40b1-b99e-cf3f6fcaf6b4"
   },
   "outputs": [
    {
     "data": {
      "text/plain": [
       "(12, 12, 6, 129066)"
      ]
     },
     "execution_count": 12,
     "metadata": {},
     "output_type": "execute_result"
    }
   ],
   "source": [
    "templ_train = np.load(templ_train_file, allow_pickle=True)[:,:,:,:max_examples_to_train]\n",
    "templ_test  = np.load(templ_test_file, allow_pickle=True)[:,:,:,:max_examples_to_train]\n",
    "templ_train.shape"
   ]
  },
  {
   "cell_type": "code",
   "execution_count": 13,
   "metadata": {
    "id": "k2Etr3GwEYjN"
   },
   "outputs": [],
   "source": [
    "X_train = []\n",
    "for i in range(len(train_data)):\n",
    "    features = templ_train[:,:,:,i].flatten() # np.concatenate((old_features_train[:,:,:,i,:].flatten())) #,\n",
    "                               #ripser_train[:,:,i,:].flatten(),\n",
    "                               #templ_train[:,:,:,i].flatten()))\n",
    "    X_train.append(features)\n",
    "y_train = train_data[\"labels\"]\n",
    "\n",
    "X_test = []\n",
    "for i in range(len(test_data)):\n",
    "    features = templ_test[:,:,:,i].flatten() # np.concatenate((old_features_test[:,:,:,i,:].flatten())) #,\n",
    "                               #ripser_test[:,:,i,:].flatten(),\n",
    "                               #templ_test[:,:,:,i].flatten()))\n",
    "    X_test.append(features)\n",
    "y_test = test_data[\"labels\"]"
   ]
  },
  {
   "cell_type": "code",
   "execution_count": 14,
   "metadata": {
    "id": "uupZW5xrEYjO"
   },
   "outputs": [],
   "source": [
    "X_train = X_train[:max_examples_to_train]\n",
    "train_data = train_data[:max_examples_to_train]"
   ]
  },
  {
   "cell_type": "code",
   "execution_count": 15,
   "metadata": {
    "id": "qFct4hecEYjP"
   },
   "outputs": [],
   "source": [
    "try:\n",
    "    assert(len(train_data) == len(X_train))\n",
    "    assert(len(test_data) == len(X_test))\n",
    "except:\n",
    "    print(\"ASSERTION ERROR!!!\")"
   ]
  },
  {
   "cell_type": "markdown",
   "metadata": {
    "id": "0CdmOD_NEYjP"
   },
   "source": [
    "## LogReg by the feautres from all heads"
   ]
  },
  {
   "cell_type": "code",
   "execution_count": 16,
   "metadata": {
    "id": "-kuXP1KHEYjQ"
   },
   "outputs": [],
   "source": [
    "def pred_by_Xy(X_train, y_train, X_test, classifier, verbose=False, scale=True):\n",
    "\n",
    "    if scale:\n",
    "        scaler  = preprocessing.StandardScaler().fit(X_train)\n",
    "        X_train = scaler.transform(X_train)\n",
    "\n",
    "    classifier.fit(X_train, y_train)\n",
    "    \n",
    "    if verbose:\n",
    "        print(\"train matt:\", matthews_corrcoef(y_train, classifier.predict(X_train)))\n",
    "        print(\"train acc: \", accuracy_score(y_train, classifier.predict(X_train)))\n",
    "    \n",
    "    if scale:\n",
    "        X_test = scaler.transform(X_test)\n",
    "        \n",
    "    return classifier.predict(X_test), \\\n",
    "           matthews_corrcoef(y_train, classifier.predict(X_train)), \\\n",
    "           accuracy_score(y_train, classifier.predict(X_train))"
   ]
  },
  {
   "cell_type": "code",
   "execution_count": 17,
   "metadata": {
    "id": "DFklD__eEYjQ"
   },
   "outputs": [],
   "source": [
    "classifier = linear_model.LogisticRegression(solver=solver)\n",
    "\n",
    "# The classifier with concrete hyperparameters values, which you should insert here.\n",
    "# For grid search of hyperparameters - see below."
   ]
  },
  {
   "cell_type": "markdown",
   "metadata": {
    "id": "SPkqW1BAEYjQ"
   },
   "source": [
    "## Grid Search of hyperparameters. Use it on the dev/vaild set!\n",
    "\n",
    "(**Reminder**: Don't tune hyperparameters on the test set, to not overfit hyperparameters. Tune hyperparameters on the dev/valid set, and then use the best ones on the test set.)"
   ]
  },
  {
   "cell_type": "code",
   "execution_count": 18,
   "metadata": {
    "colab": {
     "base_uri": "https://localhost:8080/"
    },
    "id": "0TvWel_QEYjR",
    "outputId": "eb1ae283-95eb-4081-c37d-349f6caf844e"
   },
   "outputs": [
    {
     "name": "stdout",
     "output_type": "stream",
     "text": [
      "[0.0001, 0.0005, 0.001, 0.005, 0.01, 0.05, 0.1, 0.5, 1, 2] [1, 2, 3, 5, 10, 25, 50, 100, 500, 1000, 2000]\n"
     ]
    }
   ],
   "source": [
    "C_range = [0.0001, 0.0005, 0.001, 0.005, 0.01, 0.05, 0.1, 0.5, 1, 2]\n",
    "max_iter_range = [1, 2, 3, 5, 10, 25, 50, 100, 500, 1000, 2000]\n",
    "\n",
    "print(C_range, max_iter_range)"
   ]
  },
  {
   "cell_type": "code",
   "execution_count": 19,
   "metadata": {
    "colab": {
     "base_uri": "https://localhost:8080/",
     "height": 49,
     "referenced_widgets": [
      "9eeb9b2de52c415e949301b3d648c979",
      "4a5842833faf44e7816bcb3760697bc5",
      "4d1e4aa5596941d7bb367a4c4bafeaf5",
      "1996b92cd2a645d7af96b68521867c9c",
      "af56979fb9274c15be3c357342cce280",
      "2fc2ccaf6e404593ac06842b580ebf1f",
      "c6bf73b99e8f4c07b4664e77710f78ad",
      "5f27f22b239e42b38a9f8431f75487f9",
      "016c18aca1194b99b5d285326fffbf66",
      "9ba10435afd24c389c9f3780b849c2d1",
      "ad757030dbca4f269122f5d93bd54c3e"
     ]
    },
    "id": "V3p2vDLDEYjS",
    "outputId": "a7039a4c-e696-4284-c83c-2b83b936b8a6",
    "scrolled": true
   },
   "outputs": [
    {
     "data": {
      "application/vnd.jupyter.widget-view+json": {
       "model_id": "70b09a11d51d4aa2890065f4d657afdb",
       "version_major": 2,
       "version_minor": 0
      },
      "text/plain": [
       "  0%|          | 0/10 [00:00<?, ?it/s]"
      ]
     },
     "metadata": {},
     "output_type": "display_data"
    }
   ],
   "source": [
    "matt_scores = dict()\n",
    "acc_scores  = dict()\n",
    "matt_scores_train = dict()\n",
    "acc_scores_train  = dict()\n",
    "results     = dict()\n",
    "\n",
    "for C in tqdm(C_range):\n",
    "    for max_iter in max_iter_range:\n",
    "        classifier = linear_model.LogisticRegression(penalty='l2', C=C, max_iter=max_iter, dual=is_dual,\n",
    "                                                     solver=solver)\n",
    "\n",
    "        result, train_matt, train_acc = pred_by_Xy(X_train, y_train, X_test, classifier)\n",
    "        results[(C, max_iter)] = result\n",
    "\n",
    "        matt_scores_train[(C, max_iter)] = matthews_corrcoef(result, y_test)\n",
    "        acc_scores_train[(C, max_iter)]  = accuracy_score(result, y_test)\n",
    "\n",
    "        try:\n",
    "            matt_scores[(C, max_iter)] = matthews_corrcoef(result, y_test)\n",
    "            acc_scores[(C, max_iter)]  = accuracy_score(result, y_test)\n",
    "            #print(\"test matt: \", matthews_corrcoef(result, y_test))\n",
    "            #print(\"test acc:  \", accuracy_score(result, y_test))\n",
    "        except:\n",
    "            #print(\"Not labeled\")\n",
    "            pass"
   ]
  },
  {
   "cell_type": "markdown",
   "metadata": {
    "id": "MTqNlpeeEYjT"
   },
   "source": [
    "### Prints the list of hyperparameters and corresponding matthews corcoef / accuracy of LogReg, trained with these parameters"
   ]
  },
  {
   "cell_type": "code",
   "execution_count": 20,
   "metadata": {
    "colab": {
     "base_uri": "https://localhost:8080/",
     "referenced_widgets": [
      "1022d19b82b740feab74320644e1d12a"
     ]
    },
    "id": "hmcJtr0yEYjT",
    "outputId": "aaad5087-8e8d-4ab1-a72a-62d8ef532e53",
    "scrolled": true
   },
   "outputs": [
    {
     "data": {
      "application/vnd.jupyter.widget-view+json": {
       "model_id": "e239417fab6b4b1b9ec9b729ce16fee1",
       "version_major": 2,
       "version_minor": 0
      },
      "text/plain": [
       "  0%|          | 0/10 [00:00<?, ?it/s]"
      ]
     },
     "metadata": {},
     "output_type": "display_data"
    },
    {
     "name": "stdout",
     "output_type": "stream",
     "text": [
      "0.0001 1 , matt: 0.05055227746358227\n",
      "0.0001 1 , acc : 0.5252661429036307\n",
      "\n",
      "0.0001 2 , matt: 0.07028639702735572\n",
      "0.0001 2 , acc : 0.5351215657105667\n",
      "\n",
      "0.0001 3 , matt: 0.12704202672042814\n",
      "0.0001 3 , acc : 0.5630607596113616\n",
      "\n",
      "0.0001 5 , matt: 0.13992911103369415\n",
      "0.0001 5 , acc : 0.5695225698479848\n",
      "\n",
      "0.0001 10 , matt: 0.18693060208772466\n",
      "0.0001 10 , acc : 0.5934638092138905\n",
      "\n",
      "0.0001 25 , matt: 0.217330694900088\n",
      "0.0001 25 , acc : 0.608665334015155\n",
      "\n",
      "0.0001 50 , matt: 0.22040112674492016\n",
      "0.0001 50 , acc : 0.6101994328483101\n",
      "\n",
      "0.0001 100 , matt: 0.22012356436125077\n",
      "0.0001 100 , acc : 0.6100599693180233\n",
      "\n",
      "0.0001 500 , matt: 0.22012356436125077\n",
      "0.0001 500 , acc : 0.6100599693180233\n",
      "\n",
      "0.0001 1000 , matt: 0.22012356436125077\n",
      "0.0001 1000 , acc : 0.6100599693180233\n",
      "\n",
      "0.0001 2000 , matt: 0.22012356436125077\n",
      "0.0001 2000 , acc : 0.6100599693180233\n",
      "\n",
      "0.0005 1 , matt: 0.05055227746358227\n",
      "0.0005 1 , acc : 0.5252661429036307\n",
      "\n",
      "0.0005 2 , matt: 0.07019313289439243\n",
      "0.0005 2 , acc : 0.5350750778671377\n",
      "\n",
      "0.0005 3 , matt: 0.12695269864607592\n",
      "0.0005 3 , acc : 0.5630142717679327\n",
      "\n",
      "0.0005 5 , matt: 0.13929936963893882\n",
      "0.0005 5 , acc : 0.5691971549439822\n",
      "\n",
      "0.0005 10 , matt: 0.18433442916006026\n",
      "0.0005 10 , acc : 0.5921621495978802\n",
      "\n",
      "0.0005 25 , matt: 0.2311873260596766\n",
      "0.0005 25 , acc : 0.6155920226860676\n",
      "\n",
      "0.0005 50 , matt: 0.24485295878696603\n",
      "0.0005 50 , acc : 0.6224257356701223\n",
      "\n",
      "0.0005 100 , matt: 0.24559607757518004\n",
      "0.0005 100 , acc : 0.6227976384175538\n",
      "\n",
      "0.0005 500 , matt: 0.24624696888123684\n",
      "0.0005 500 , acc : 0.6231230533215564\n",
      "\n",
      "0.0005 1000 , matt: 0.24624696888123684\n",
      "0.0005 1000 , acc : 0.6231230533215564\n",
      "\n",
      "0.0005 2000 , matt: 0.24624696888123684\n",
      "0.0005 2000 , acc : 0.6231230533215564\n",
      "\n",
      "0.001 1 , matt: 0.05055227746358227\n",
      "0.001 1 , acc : 0.5252661429036307\n",
      "\n",
      "0.001 2 , matt: 0.07019313289439243\n",
      "0.001 2 , acc : 0.5350750778671377\n",
      "\n",
      "0.001 3 , matt: 0.12695269864607592\n",
      "0.001 3 , acc : 0.5630142717679327\n",
      "\n",
      "0.001 5 , matt: 0.13938549458522906\n",
      "0.001 5 , acc : 0.5692436427874111\n",
      "\n",
      "0.001 10 , matt: 0.18498584488307251\n",
      "0.001 10 , acc : 0.5924875645018828\n",
      "\n",
      "0.001 25 , matt: 0.23257867640359997\n",
      "0.001 25 , acc : 0.6162893403375017\n",
      "\n",
      "0.001 50 , matt: 0.24336411066853786\n",
      "0.001 50 , acc : 0.6216819301752592\n",
      "\n",
      "0.001 100 , matt: 0.24847839214126977\n",
      "0.001 100 , acc : 0.624238761563851\n",
      "\n",
      "0.001 500 , matt: 0.24857143044984847\n",
      "0.001 500 , acc : 0.62428524940728\n",
      "\n",
      "0.001 1000 , matt: 0.24857143044984847\n",
      "0.001 1000 , acc : 0.62428524940728\n",
      "\n",
      "0.001 2000 , matt: 0.24857143044984847\n",
      "0.001 2000 , acc : 0.62428524940728\n",
      "\n",
      "0.005 1 , matt: 0.05055227746358227\n",
      "0.005 1 , acc : 0.5252661429036307\n",
      "\n",
      "0.005 2 , matt: 0.07010032671632649\n",
      "0.005 2 , acc : 0.5350285900237088\n",
      "\n",
      "0.005 3 , matt: 0.12695269864607592\n",
      "0.005 3 , acc : 0.5630142717679327\n",
      "\n",
      "0.005 5 , matt: 0.13976278149487417\n",
      "0.005 5 , acc : 0.5694295941611268\n",
      "\n",
      "0.005 10 , matt: 0.1848018121783911\n",
      "0.005 10 , acc : 0.5923945888150248\n",
      "\n",
      "0.005 25 , matt: 0.23164895965746293\n",
      "0.005 25 , acc : 0.6158244619032123\n",
      "\n",
      "0.005 50 , matt: 0.2484836392532478\n",
      "0.005 50 , acc : 0.624238761563851\n",
      "\n",
      "0.005 100 , matt: 0.2511752611061629\n",
      "0.005 100 , acc : 0.6255869090232904\n",
      "\n",
      "0.005 500 , matt: 0.2525698267000593\n",
      "0.005 500 , acc : 0.6262842266747246\n",
      "\n",
      "0.005 1000 , matt: 0.2525698267000593\n",
      "0.005 1000 , acc : 0.6262842266747246\n",
      "\n",
      "0.005 2000 , matt: 0.2525698267000593\n",
      "0.005 2000 , acc : 0.6262842266747246\n",
      "\n",
      "0.01 1 , matt: 0.05055227746358227\n",
      "0.01 1 , acc : 0.5252661429036307\n",
      "\n",
      "0.01 2 , matt: 0.0700070632018071\n",
      "0.01 2 , acc : 0.5349821021802799\n",
      "\n",
      "0.01 3 , matt: 0.12695269864607592\n",
      "0.01 3 , acc : 0.5630142717679327\n",
      "\n",
      "0.01 5 , matt: 0.13976278149487417\n",
      "0.01 5 , acc : 0.5694295941611268\n",
      "\n",
      "0.01 10 , matt: 0.18470903153803556\n",
      "0.01 10 , acc : 0.592348100971596\n",
      "\n",
      "0.01 25 , matt: 0.23332953753006605\n",
      "0.01 25 , acc : 0.6166612430849333\n",
      "\n",
      "0.01 50 , matt: 0.24773374571424672\n",
      "0.01 50 , acc : 0.6238668588164195\n",
      "\n",
      "0.01 100 , matt: 0.2542435598259732\n",
      "0.01 100 , acc : 0.6271210078564455\n",
      "\n",
      "0.01 500 , matt: 0.2527552282127679\n",
      "0.01 500 , acc : 0.6263772023615825\n",
      "\n",
      "0.01 1000 , matt: 0.2527552282127679\n",
      "0.01 1000 , acc : 0.6263772023615825\n",
      "\n",
      "0.01 2000 , matt: 0.2527552282127679\n",
      "0.01 2000 , acc : 0.6263772023615825\n",
      "\n",
      "0.05 1 , matt: 0.05055227746358227\n",
      "0.05 1 , acc : 0.5252661429036307\n",
      "\n",
      "0.05 2 , matt: 0.0700070632018071\n",
      "0.05 2 , acc : 0.5349821021802799\n",
      "\n",
      "0.05 3 , matt: 0.12695269864607592\n",
      "0.05 3 , acc : 0.5630142717679327\n",
      "\n",
      "0.05 5 , matt: 0.13976278149487417\n",
      "0.05 5 , acc : 0.5694295941611268\n",
      "\n",
      "0.05 10 , matt: 0.18443028722401109\n",
      "0.05 10 , acc : 0.5922086374413091\n",
      "\n",
      "0.05 25 , matt: 0.23564775307995073\n",
      "0.05 25 , acc : 0.6178234391706569\n",
      "\n",
      "0.05 50 , matt: 0.2432709387609106\n",
      "0.05 50 , acc : 0.6216354423318302\n",
      "\n",
      "0.05 100 , matt: 0.2551735740736187\n",
      "0.05 100 , acc : 0.627585886290735\n",
      "\n",
      "0.05 500 , matt: 0.2544283012391249\n",
      "0.05 500 , acc : 0.6272139835433034\n",
      "\n",
      "0.05 1000 , matt: 0.2548930744197826\n",
      "0.05 1000 , acc : 0.6274464227604482\n",
      "\n",
      "0.05 2000 , matt: 0.2548930744197826\n",
      "0.05 2000 , acc : 0.6274464227604482\n",
      "\n",
      "0.1 1 , matt: 0.05055227746358227\n",
      "0.1 1 , acc : 0.5252661429036307\n",
      "\n",
      "0.1 2 , matt: 0.0700070632018071\n",
      "0.1 2 , acc : 0.5349821021802799\n",
      "\n",
      "0.1 3 , matt: 0.12695269864607592\n",
      "0.1 3 , acc : 0.5630142717679327\n",
      "\n",
      "0.1 5 , matt: 0.13976278149487417\n",
      "0.1 5 , acc : 0.5694295941611268\n",
      "\n",
      "0.1 10 , matt: 0.1845234744231857\n",
      "0.1 10 , acc : 0.592255125284738\n",
      "\n",
      "0.1 25 , matt: 0.2362978604681487\n",
      "0.1 25 , acc : 0.6181488540746595\n",
      "\n",
      "0.1 50 , matt: 0.24819892106438057\n",
      "0.1 50 , acc : 0.6240992980335642\n",
      "\n",
      "0.1 100 , matt: 0.25433521964158784\n",
      "0.1 100 , acc : 0.6271674956998745\n",
      "\n",
      "0.1 500 , matt: 0.25368570194214307\n",
      "0.1 500 , acc : 0.6268420807958719\n",
      "\n",
      "0.1 1000 , matt: 0.2540570180504584\n",
      "0.1 1000 , acc : 0.6270280321695877\n",
      "\n",
      "0.1 2000 , matt: 0.2540570180504584\n",
      "0.1 2000 , acc : 0.6270280321695877\n",
      "\n",
      "0.5 1 , matt: 0.05055227746358227\n",
      "0.5 1 , acc : 0.5252661429036307\n",
      "\n",
      "0.5 2 , matt: 0.0700070632018071\n",
      "0.5 2 , acc : 0.5349821021802799\n",
      "\n",
      "0.5 3 , matt: 0.12695269864607592\n",
      "0.5 3 , acc : 0.5630142717679327\n",
      "\n",
      "0.5 5 , matt: 0.13985785468455625\n",
      "0.5 5 , acc : 0.5694760820045558\n",
      "\n",
      "0.5 10 , matt: 0.1845234744231857\n",
      "0.5 10 , acc : 0.592255125284738\n",
      "\n",
      "0.5 25 , matt: 0.23490308004100965\n",
      "0.5 25 , acc : 0.6174515364232254\n",
      "\n",
      "0.5 50 , matt: 0.2421562065017305\n",
      "0.5 50 , acc : 0.6210775882106829\n",
      "\n",
      "0.5 100 , matt: 0.25163881207404243\n",
      "0.5 100 , acc : 0.6258193482404352\n",
      "\n",
      "0.5 500 , matt: 0.2527551123150151\n",
      "0.5 500 , acc : 0.6263772023615825\n",
      "\n",
      "0.5 1000 , matt: 0.25452096143318426\n",
      "0.5 1000 , acc : 0.6272604713867324\n",
      "\n",
      "0.5 2000 , matt: 0.2537771356659248\n",
      "0.5 2000 , acc : 0.6268885686393009\n",
      "\n",
      "1 1 , matt: 0.05055227746358227\n",
      "1 1 , acc : 0.5252661429036307\n",
      "\n",
      "1 2 , matt: 0.0700070632018071\n",
      "1 2 , acc : 0.5349821021802799\n",
      "\n",
      "1 3 , matt: 0.12695269864607592\n",
      "1 3 , acc : 0.5630142717679327\n",
      "\n",
      "1 5 , matt: 0.13985785468455625\n",
      "1 5 , acc : 0.5694760820045558\n",
      "\n",
      "1 10 , matt: 0.1845234744231857\n",
      "1 10 , acc : 0.592255125284738\n",
      "\n",
      "1 25 , matt: 0.23527515316747538\n",
      "1 25 , acc : 0.617637487796941\n",
      "\n",
      "1 50 , matt: 0.24373592218416443\n",
      "1 50 , acc : 0.621867881548975\n",
      "\n",
      "1 100 , matt: 0.253870279599331\n",
      "1 100 , acc : 0.6269350564827297\n",
      "\n",
      "1 500 , matt: 0.2535924886838042\n",
      "1 500 , acc : 0.6267955929524429\n",
      "\n",
      "1 1000 , matt: 0.25349821292698754\n",
      "1 1000 , acc : 0.6267491051090139\n",
      "\n",
      "1 2000 , matt: 0.25359121473374685\n",
      "1 2000 , acc : 0.6267955929524429\n",
      "\n",
      "2 1 , matt: 0.05055227746358227\n",
      "2 1 , acc : 0.5252661429036307\n",
      "\n",
      "2 2 , matt: 0.0700070632018071\n",
      "2 2 , acc : 0.5349821021802799\n",
      "\n",
      "2 3 , matt: 0.12695269864607592\n",
      "2 3 , acc : 0.5630142717679327\n",
      "\n",
      "2 5 , matt: 0.13985785468455625\n",
      "2 5 , acc : 0.5694760820045558\n",
      "\n",
      "2 10 , matt: 0.1845234744231857\n",
      "2 10 , acc : 0.592255125284738\n",
      "\n",
      "2 25 , matt: 0.23471724826957419\n",
      "2 25 , acc : 0.6173585607363674\n",
      "\n",
      "2 50 , matt: 0.24457294026203497\n",
      "2 50 , acc : 0.6222862721398355\n",
      "\n",
      "2 100 , matt: 0.2495023867693518\n",
      "2 100 , acc : 0.6247501278415695\n",
      "\n",
      "2 500 , matt: 0.2523826973326026\n",
      "2 500 , acc : 0.6261912509878667\n",
      "\n",
      "2 1000 , matt: 0.2543349944852555\n",
      "2 1000 , acc : 0.6271674956998745\n",
      "\n",
      "2 2000 , matt: 0.25340523753429467\n",
      "2 2000 , acc : 0.6267026172655851\n",
      "\n",
      "---\n",
      "\n",
      "The best Acc score:\n",
      "\n",
      "0.627585886290735\n",
      "\n",
      "The best Matthew score:\n",
      "\n",
      "0.2551735740736187\n"
     ]
    }
   ],
   "source": [
    "try:\n",
    "    for C in tqdm(C_range):\n",
    "        for max_iter in max_iter_range:\n",
    "            print(C, max_iter, \", matt:\", matt_scores[(C, max_iter)])\n",
    "            print(C, max_iter, \", acc :\", acc_scores[(C, max_iter)])\n",
    "            print()\n",
    "    print(\"---\")\n",
    "    print()\n",
    "    print(\"The best Acc score:\")\n",
    "    print()\n",
    "    print(max(acc_scores.values()))\n",
    "    print()\n",
    "    print(\"The best Matthew score:\")\n",
    "    print()\n",
    "    print(max(matt_scores.values()))\n",
    "\n",
    "except:\n",
    "    print(\"Data is not labeled\")"
   ]
  },
  {
   "cell_type": "code",
   "execution_count": null,
   "metadata": {
    "id": "BDEGQEVcEYjT"
   },
   "outputs": [],
   "source": []
  }
 ],
 "metadata": {
  "accelerator": "GPU",
  "colab": {
   "name": "features_prediction.ipynb",
   "provenance": []
  },
  "kernelspec": {
   "display_name": "Python 3",
   "language": "python",
   "name": "python3"
  },
  "language_info": {
   "codemirror_mode": {
    "name": "ipython",
    "version": 3
   },
   "file_extension": ".py",
   "mimetype": "text/x-python",
   "name": "python",
   "nbconvert_exporter": "python",
   "pygments_lexer": "ipython3",
   "version": "3.8.8"
  },
  "pycharm": {
   "stem_cell": {
    "cell_type": "raw",
    "metadata": {
     "collapsed": false
    },
    "source": []
   }
  },
  "widgets": {
   "application/vnd.jupyter.widget-state+json": {
    "016c18aca1194b99b5d285326fffbf66": {
     "model_module": "@jupyter-widgets/controls",
     "model_module_version": "1.5.0",
     "model_name": "ProgressStyleModel",
     "state": {
      "_model_module": "@jupyter-widgets/controls",
      "_model_module_version": "1.5.0",
      "_model_name": "ProgressStyleModel",
      "_view_count": null,
      "_view_module": "@jupyter-widgets/base",
      "_view_module_version": "1.2.0",
      "_view_name": "StyleView",
      "bar_color": null,
      "description_width": ""
     }
    },
    "1996b92cd2a645d7af96b68521867c9c": {
     "model_module": "@jupyter-widgets/controls",
     "model_module_version": "1.5.0",
     "model_name": "HTMLModel",
     "state": {
      "_dom_classes": [],
      "_model_module": "@jupyter-widgets/controls",
      "_model_module_version": "1.5.0",
      "_model_name": "HTMLModel",
      "_view_count": null,
      "_view_module": "@jupyter-widgets/controls",
      "_view_module_version": "1.5.0",
      "_view_name": "HTMLView",
      "description": "",
      "description_tooltip": null,
      "layout": "IPY_MODEL_9ba10435afd24c389c9f3780b849c2d1",
      "placeholder": "​",
      "style": "IPY_MODEL_ad757030dbca4f269122f5d93bd54c3e",
      "value": " 10/10 [00:11&lt;00:00,  1.24s/it]"
     }
    },
    "2fc2ccaf6e404593ac06842b580ebf1f": {
     "model_module": "@jupyter-widgets/base",
     "model_module_version": "1.2.0",
     "model_name": "LayoutModel",
     "state": {
      "_model_module": "@jupyter-widgets/base",
      "_model_module_version": "1.2.0",
      "_model_name": "LayoutModel",
      "_view_count": null,
      "_view_module": "@jupyter-widgets/base",
      "_view_module_version": "1.2.0",
      "_view_name": "LayoutView",
      "align_content": null,
      "align_items": null,
      "align_self": null,
      "border": null,
      "bottom": null,
      "display": null,
      "flex": null,
      "flex_flow": null,
      "grid_area": null,
      "grid_auto_columns": null,
      "grid_auto_flow": null,
      "grid_auto_rows": null,
      "grid_column": null,
      "grid_gap": null,
      "grid_row": null,
      "grid_template_areas": null,
      "grid_template_columns": null,
      "grid_template_rows": null,
      "height": null,
      "justify_content": null,
      "justify_items": null,
      "left": null,
      "margin": null,
      "max_height": null,
      "max_width": null,
      "min_height": null,
      "min_width": null,
      "object_fit": null,
      "object_position": null,
      "order": null,
      "overflow": null,
      "overflow_x": null,
      "overflow_y": null,
      "padding": null,
      "right": null,
      "top": null,
      "visibility": null,
      "width": null
     }
    },
    "4a5842833faf44e7816bcb3760697bc5": {
     "model_module": "@jupyter-widgets/controls",
     "model_module_version": "1.5.0",
     "model_name": "HTMLModel",
     "state": {
      "_dom_classes": [],
      "_model_module": "@jupyter-widgets/controls",
      "_model_module_version": "1.5.0",
      "_model_name": "HTMLModel",
      "_view_count": null,
      "_view_module": "@jupyter-widgets/controls",
      "_view_module_version": "1.5.0",
      "_view_name": "HTMLView",
      "description": "",
      "description_tooltip": null,
      "layout": "IPY_MODEL_2fc2ccaf6e404593ac06842b580ebf1f",
      "placeholder": "​",
      "style": "IPY_MODEL_c6bf73b99e8f4c07b4664e77710f78ad",
      "value": "100%"
     }
    },
    "4d1e4aa5596941d7bb367a4c4bafeaf5": {
     "model_module": "@jupyter-widgets/controls",
     "model_module_version": "1.5.0",
     "model_name": "FloatProgressModel",
     "state": {
      "_dom_classes": [],
      "_model_module": "@jupyter-widgets/controls",
      "_model_module_version": "1.5.0",
      "_model_name": "FloatProgressModel",
      "_view_count": null,
      "_view_module": "@jupyter-widgets/controls",
      "_view_module_version": "1.5.0",
      "_view_name": "ProgressView",
      "bar_style": "success",
      "description": "",
      "description_tooltip": null,
      "layout": "IPY_MODEL_5f27f22b239e42b38a9f8431f75487f9",
      "max": 10,
      "min": 0,
      "orientation": "horizontal",
      "style": "IPY_MODEL_016c18aca1194b99b5d285326fffbf66",
      "value": 10
     }
    },
    "5f27f22b239e42b38a9f8431f75487f9": {
     "model_module": "@jupyter-widgets/base",
     "model_module_version": "1.2.0",
     "model_name": "LayoutModel",
     "state": {
      "_model_module": "@jupyter-widgets/base",
      "_model_module_version": "1.2.0",
      "_model_name": "LayoutModel",
      "_view_count": null,
      "_view_module": "@jupyter-widgets/base",
      "_view_module_version": "1.2.0",
      "_view_name": "LayoutView",
      "align_content": null,
      "align_items": null,
      "align_self": null,
      "border": null,
      "bottom": null,
      "display": null,
      "flex": null,
      "flex_flow": null,
      "grid_area": null,
      "grid_auto_columns": null,
      "grid_auto_flow": null,
      "grid_auto_rows": null,
      "grid_column": null,
      "grid_gap": null,
      "grid_row": null,
      "grid_template_areas": null,
      "grid_template_columns": null,
      "grid_template_rows": null,
      "height": null,
      "justify_content": null,
      "justify_items": null,
      "left": null,
      "margin": null,
      "max_height": null,
      "max_width": null,
      "min_height": null,
      "min_width": null,
      "object_fit": null,
      "object_position": null,
      "order": null,
      "overflow": null,
      "overflow_x": null,
      "overflow_y": null,
      "padding": null,
      "right": null,
      "top": null,
      "visibility": null,
      "width": null
     }
    },
    "9ba10435afd24c389c9f3780b849c2d1": {
     "model_module": "@jupyter-widgets/base",
     "model_module_version": "1.2.0",
     "model_name": "LayoutModel",
     "state": {
      "_model_module": "@jupyter-widgets/base",
      "_model_module_version": "1.2.0",
      "_model_name": "LayoutModel",
      "_view_count": null,
      "_view_module": "@jupyter-widgets/base",
      "_view_module_version": "1.2.0",
      "_view_name": "LayoutView",
      "align_content": null,
      "align_items": null,
      "align_self": null,
      "border": null,
      "bottom": null,
      "display": null,
      "flex": null,
      "flex_flow": null,
      "grid_area": null,
      "grid_auto_columns": null,
      "grid_auto_flow": null,
      "grid_auto_rows": null,
      "grid_column": null,
      "grid_gap": null,
      "grid_row": null,
      "grid_template_areas": null,
      "grid_template_columns": null,
      "grid_template_rows": null,
      "height": null,
      "justify_content": null,
      "justify_items": null,
      "left": null,
      "margin": null,
      "max_height": null,
      "max_width": null,
      "min_height": null,
      "min_width": null,
      "object_fit": null,
      "object_position": null,
      "order": null,
      "overflow": null,
      "overflow_x": null,
      "overflow_y": null,
      "padding": null,
      "right": null,
      "top": null,
      "visibility": null,
      "width": null
     }
    },
    "9eeb9b2de52c415e949301b3d648c979": {
     "model_module": "@jupyter-widgets/controls",
     "model_module_version": "1.5.0",
     "model_name": "HBoxModel",
     "state": {
      "_dom_classes": [],
      "_model_module": "@jupyter-widgets/controls",
      "_model_module_version": "1.5.0",
      "_model_name": "HBoxModel",
      "_view_count": null,
      "_view_module": "@jupyter-widgets/controls",
      "_view_module_version": "1.5.0",
      "_view_name": "HBoxView",
      "box_style": "",
      "children": [
       "IPY_MODEL_4a5842833faf44e7816bcb3760697bc5",
       "IPY_MODEL_4d1e4aa5596941d7bb367a4c4bafeaf5",
       "IPY_MODEL_1996b92cd2a645d7af96b68521867c9c"
      ],
      "layout": "IPY_MODEL_af56979fb9274c15be3c357342cce280"
     }
    },
    "ad757030dbca4f269122f5d93bd54c3e": {
     "model_module": "@jupyter-widgets/controls",
     "model_module_version": "1.5.0",
     "model_name": "DescriptionStyleModel",
     "state": {
      "_model_module": "@jupyter-widgets/controls",
      "_model_module_version": "1.5.0",
      "_model_name": "DescriptionStyleModel",
      "_view_count": null,
      "_view_module": "@jupyter-widgets/base",
      "_view_module_version": "1.2.0",
      "_view_name": "StyleView",
      "description_width": ""
     }
    },
    "af56979fb9274c15be3c357342cce280": {
     "model_module": "@jupyter-widgets/base",
     "model_module_version": "1.2.0",
     "model_name": "LayoutModel",
     "state": {
      "_model_module": "@jupyter-widgets/base",
      "_model_module_version": "1.2.0",
      "_model_name": "LayoutModel",
      "_view_count": null,
      "_view_module": "@jupyter-widgets/base",
      "_view_module_version": "1.2.0",
      "_view_name": "LayoutView",
      "align_content": null,
      "align_items": null,
      "align_self": null,
      "border": null,
      "bottom": null,
      "display": null,
      "flex": null,
      "flex_flow": null,
      "grid_area": null,
      "grid_auto_columns": null,
      "grid_auto_flow": null,
      "grid_auto_rows": null,
      "grid_column": null,
      "grid_gap": null,
      "grid_row": null,
      "grid_template_areas": null,
      "grid_template_columns": null,
      "grid_template_rows": null,
      "height": null,
      "justify_content": null,
      "justify_items": null,
      "left": null,
      "margin": null,
      "max_height": null,
      "max_width": null,
      "min_height": null,
      "min_width": null,
      "object_fit": null,
      "object_position": null,
      "order": null,
      "overflow": null,
      "overflow_x": null,
      "overflow_y": null,
      "padding": null,
      "right": null,
      "top": null,
      "visibility": null,
      "width": null
     }
    },
    "c6bf73b99e8f4c07b4664e77710f78ad": {
     "model_module": "@jupyter-widgets/controls",
     "model_module_version": "1.5.0",
     "model_name": "DescriptionStyleModel",
     "state": {
      "_model_module": "@jupyter-widgets/controls",
      "_model_module_version": "1.5.0",
      "_model_name": "DescriptionStyleModel",
      "_view_count": null,
      "_view_module": "@jupyter-widgets/base",
      "_view_module_version": "1.2.0",
      "_view_name": "StyleView",
      "description_width": ""
     }
    }
   }
  }
 },
 "nbformat": 4,
 "nbformat_minor": 4
}
