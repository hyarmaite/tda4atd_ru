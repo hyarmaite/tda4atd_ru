{
 "cells": [
  {
   "cell_type": "code",
   "execution_count": 1,
   "metadata": {
    "id": "xNeWG8PFEYi6",
    "pycharm": {
     "is_executing": false
    }
   },
   "outputs": [],
   "source": [
    "from collections import defaultdict, Counter\n",
    "import itertools\n",
    "import re\n",
    "import subprocess\n",
    "import pickle\n",
    "import json\n",
    "\n",
    "import matplotlib.pyplot as plt\n",
    "import numpy as np\n",
    "import pandas as pd\n",
    "from scipy.stats import pearsonr\n",
    "from sklearn import linear_model, preprocessing, utils, datasets\n",
    "from sklearn.metrics import accuracy_score, matthews_corrcoef\n",
    "from matplotlib.pyplot import scatter\n",
    "import random\n",
    "from tqdm.notebook import tqdm\n",
    "from stats_count import *"
   ]
  },
  {
   "cell_type": "code",
   "execution_count": 2,
   "metadata": {
    "id": "Hfc19NXUEYi9"
   },
   "outputs": [],
   "source": [
    "import warnings\n",
    "warnings.filterwarnings('ignore')"
   ]
  },
  {
   "cell_type": "markdown",
   "metadata": {
    "id": "Crr3WxyjEYi-"
   },
   "source": [
    "## Parameters"
   ]
  },
  {
   "cell_type": "code",
   "execution_count": 3,
   "metadata": {
    "id": "UWnTe7I1EYjA"
   },
   "outputs": [],
   "source": [
    "np.random.seed(42)\n",
    "random.seed(42)"
   ]
  },
  {
   "cell_type": "code",
   "execution_count": 4,
   "metadata": {
    "id": "U2xhK_rcEYjB"
   },
   "outputs": [],
   "source": [
    "max_examples_to_train = 10**10\n",
    "max_tokens_amount  = 128 # The number of tokens to which the tokenized text is truncated / padded.\n",
    "layers_of_interest = [i for i in range(12)]  # Layers for which attention matrices and features on them are \n",
    "                                             # calculated. For calculating features on all layers, leave it be\n",
    "                                             # [i for i in range(12)]."
   ]
  },
  {
   "cell_type": "code",
   "execution_count": 5,
   "metadata": {
    "id": "6lx5X8sSEYjC"
   },
   "outputs": [],
   "source": [
    "train_subset = \"valid_5k\"\n",
    "test_subset  = \"valid_5k\" # dev/valid - for hyperparameters tuning;\n",
    "                      # test - for final testing after tuning hyperparameters on the dev set.\n",
    "input_dir = \"small_gpt_web/\"   # Name of the directory with .csv file\n",
    "model_path = \"bert-base-uncased\"\n",
    "# You can use either standard or fine-tuned BERT. If you want to use fine-tuned BERT to your current task, save the\n",
    "# model and the tokenizer with the commands tokenizer.save_pretrained(output_dir); \n",
    "# bert_classifier.save_pretrained(output_dir) into the same directory and insert the path to it here.\n",
    "\n",
    "old_f_train_file  = input_dir + \"features/\" + train_subset + \\\n",
    "                    \"_all_heads_12_layers_s_e_v_c_b0b1_lists_array_6_thrs_MAX_LEN_128_bert-base-uncased.npy\"\n",
    "old_f_test_file   = input_dir + \"features/\" + test_subset + \\\n",
    "                    \"_all_heads_12_layers_s_e_v_c_b0b1_lists_array_6_thrs_MAX_LEN_128_bert-base-uncased.npy\"\n",
    "ripser_train_file = input_dir + \"features/\" + train_subset + \\\n",
    "                    \"_all_heads_12_layers_MAX_LEN_128_bert-base-uncased_ripser.npy\"\n",
    "ripser_test_file = input_dir + \"features/\" + test_subset + \\\n",
    "                    \"_all_heads_12_layers_MAX_LEN_128_bert-base-uncased_ripser.npy\"\n",
    "templ_train_file  = input_dir + \"features/\" + train_subset + \\\n",
    "                    \"_all_heads_12_layers_MAX_LEN_128_bert-base-uncased_template.npy\"\n",
    "templ_test_file   = input_dir + \"features/\" + test_subset + \\\n",
    "                    \"_all_heads_12_layers_MAX_LEN_128_bert-base-uncased_template.npy\"\n",
    "\n",
    "# Higher homology features of embeddings.\n",
    "ripser_euc_final_train_file = input_dir + \"features/euc_final_\" + train_subset + \\\n",
    "                    \"_all_heads_12_layers_MAX_LEN_128_bert-base-uncased_ripser.npy\"\n",
    "ripser_euc_final_test_file = input_dir + \"features/euc_final_\" + test_subset + \\\n",
    "                    \"_all_heads_12_layers_MAX_LEN_128_bert-base-uncased_ripser.npy\"\n",
    "ripser_sph_final_train_file = input_dir + \"features/sph_final_\" + train_subset + \\\n",
    "                    \"_all_heads_12_layers_MAX_LEN_128_bert-base-uncased_ripser.npy\"\n",
    "ripser_sph_final_test_file = input_dir + \"features/sph_final_\" + test_subset + \\\n",
    "                    \"_all_heads_12_layers_MAX_LEN_128_bert-base-uncased_ripser.npy\"\n",
    "ripser_euc_start_train_file = input_dir + \"features/euc_start_\" + train_subset + \\\n",
    "                    \"_all_heads_12_layers_MAX_LEN_128_bert-base-uncased_ripser.npy\"\n",
    "ripser_euc_start_test_file = input_dir + \"features/euc_start_\" + test_subset + \\\n",
    "                    \"_all_heads_12_layers_MAX_LEN_128_bert-base-uncased_ripser.npy\"\n",
    "ripser_sph_start_train_file = input_dir + \"features/sph_start_\" + train_subset + \\\n",
    "                    \"_all_heads_12_layers_MAX_LEN_128_bert-base-uncased_ripser.npy\"\n",
    "ripser_sph_start_test_file = input_dir + \"features/sph_start_\" + test_subset + \\\n",
    "                    \"_all_heads_12_layers_MAX_LEN_128_bert-base-uncased_ripser.npy\""
   ]
  },
  {
   "cell_type": "code",
   "execution_count": 6,
   "metadata": {
    "id": "NtlJGUNYEYjD"
   },
   "outputs": [],
   "source": [
    "solver  = \"lbfgs\"\n",
    "is_dual = False"
   ]
  },
  {
   "cell_type": "markdown",
   "metadata": {
    "id": "BQBeQ1FsEYjE"
   },
   "source": [
    "## Loading data and features"
   ]
  },
  {
   "cell_type": "code",
   "execution_count": 7,
   "metadata": {
    "id": "FNX4M-jxEYjF"
   },
   "outputs": [],
   "source": [
    "try:\n",
    "    train_data = pd.read_csv(input_dir + train_subset + \".csv\")\n",
    "    test_data = pd.read_csv(input_dir + test_subset + \".csv\")\n",
    "except:\n",
    "    train_data = pd.read_csv(input_dir + train_subset + \".tsv\", delimiter=\"\\t\", header=None)\n",
    "    train_data.columns = [\"0\", \"labels\", \"2\", \"sentence\"]\n",
    "    test_data = pd.read_csv(input_dir + test_subset + \".tsv\", delimiter=\"\\t\")"
   ]
  },
  {
   "cell_type": "code",
   "execution_count": 8,
   "metadata": {
    "id": "pXYg9rHGEYjG"
   },
   "outputs": [],
   "source": [
    "if \"label\" in train_data.columns:\n",
    "    train_data[\"labels\"] = (train_data[\"label\"] == \"generated\").astype(int)\n",
    "    \n",
    "if \"label\" in test_data.columns:\n",
    "    test_data[\"labels\"] = (test_data[\"label\"] == \"generated\").astype(int)"
   ]
  },
  {
   "cell_type": "code",
   "execution_count": 9,
   "metadata": {
    "colab": {
     "base_uri": "https://localhost:8080/",
     "height": 424
    },
    "id": "8-SdVqrREYjH",
    "outputId": "bcb1189b-96fa-4869-802e-6dffd82c917d"
   },
   "outputs": [
    {
     "data": {
      "text/html": [
       "<div>\n",
       "<style scoped>\n",
       "    .dataframe tbody tr th:only-of-type {\n",
       "        vertical-align: middle;\n",
       "    }\n",
       "\n",
       "    .dataframe tbody tr th {\n",
       "        vertical-align: top;\n",
       "    }\n",
       "\n",
       "    .dataframe thead th {\n",
       "        text-align: right;\n",
       "    }\n",
       "</style>\n",
       "<table border=\"1\" class=\"dataframe\">\n",
       "  <thead>\n",
       "    <tr style=\"text-align: right;\">\n",
       "      <th></th>\n",
       "      <th>Unnamed: 0</th>\n",
       "      <th>id</th>\n",
       "      <th>ended</th>\n",
       "      <th>length</th>\n",
       "      <th>sentence</th>\n",
       "      <th>label</th>\n",
       "      <th>labels</th>\n",
       "    </tr>\n",
       "  </thead>\n",
       "  <tbody>\n",
       "    <tr>\n",
       "      <th>0</th>\n",
       "      <td>582</td>\n",
       "      <td>250590</td>\n",
       "      <td>False</td>\n",
       "      <td>1024</td>\n",
       "      <td>2. Enbridge's XL Pipeline to the I-93, Cut Wes...</td>\n",
       "      <td>generated</td>\n",
       "      <td>1</td>\n",
       "    </tr>\n",
       "    <tr>\n",
       "      <th>1</th>\n",
       "      <td>3466</td>\n",
       "      <td>253542</td>\n",
       "      <td>True</td>\n",
       "      <td>829</td>\n",
       "      <td>comic book: George Linder was barely able to f...</td>\n",
       "      <td>natural</td>\n",
       "      <td>0</td>\n",
       "    </tr>\n",
       "    <tr>\n",
       "      <th>2</th>\n",
       "      <td>3568</td>\n",
       "      <td>253645</td>\n",
       "      <td>True</td>\n",
       "      <td>872</td>\n",
       "      <td>it's really wonky.\\n\\nThe first thing I asked...</td>\n",
       "      <td>generated</td>\n",
       "      <td>1</td>\n",
       "    </tr>\n",
       "  </tbody>\n",
       "</table>\n",
       "</div>"
      ],
      "text/plain": [
       "   Unnamed: 0      id  ended  length  \\\n",
       "0         582  250590  False    1024   \n",
       "1        3466  253542   True     829   \n",
       "2        3568  253645   True     872   \n",
       "\n",
       "                                            sentence      label  labels  \n",
       "0  2. Enbridge's XL Pipeline to the I-93, Cut Wes...  generated       1  \n",
       "1  comic book: George Linder was barely able to f...    natural       0  \n",
       "2   it's really wonky.\\n\\nThe first thing I asked...  generated       1  "
      ]
     },
     "execution_count": 9,
     "metadata": {},
     "output_type": "execute_result"
    }
   ],
   "source": [
    "y_test = list(map(int, test_data[\"labels\"]))\n",
    "test_data"
   ]
  },
  {
   "cell_type": "markdown",
   "metadata": {
    "id": "xRE5Nh04EYjI"
   },
   "source": [
    "Requirements for .csv files:\n",
    "\n",
    "* .csv file **train_data** must contain the column named **labels**, otherwise LogReg accuracy will not be estimated."
   ]
  },
  {
   "cell_type": "code",
   "execution_count": 10,
   "metadata": {
    "colab": {
     "base_uri": "https://localhost:8080/"
    },
    "id": "yD3vq9KQEYjJ",
    "outputId": "9191515e-2aa8-43bb-a264-5e53680f7069"
   },
   "outputs": [
    {
     "data": {
      "text/plain": [
       "(12, 12, 6, 3, 6)"
      ]
     },
     "execution_count": 10,
     "metadata": {},
     "output_type": "execute_result"
    }
   ],
   "source": [
    "old_features_train = np.load(old_f_train_file, allow_pickle=True)[:,:,:,:max_examples_to_train,:]\n",
    "old_features_test  = np.load(old_f_test_file, allow_pickle=True)[:,:,:,:max_examples_to_train,:]\n",
    "old_features_train.shape"
   ]
  },
  {
   "cell_type": "code",
   "execution_count": 11,
   "metadata": {
    "colab": {
     "base_uri": "https://localhost:8080/"
    },
    "id": "MUNg7claEYjK",
    "outputId": "7f474132-dbec-49b3-d27a-8101f04f7422"
   },
   "outputs": [
    {
     "data": {
      "text/plain": [
       "(12, 12, 3, 14)"
      ]
     },
     "execution_count": 11,
     "metadata": {},
     "output_type": "execute_result"
    }
   ],
   "source": [
    "ripser_train = np.load(ripser_train_file, allow_pickle=True)[:,:,:max_examples_to_train,:]\n",
    "ripser_test  = np.load(ripser_test_file, allow_pickle=True)[:,:,:max_examples_to_train,:]\n",
    "ripser_train.shape"
   ]
  },
  {
   "cell_type": "code",
   "execution_count": 12,
   "metadata": {},
   "outputs": [
    {
     "data": {
      "text/plain": [
       "(1, 1, 3, 42)"
      ]
     },
     "execution_count": 12,
     "metadata": {},
     "output_type": "execute_result"
    }
   ],
   "source": [
    "ripser_euc_final_train = np.load(ripser_euc_final_train_file, allow_pickle=True)[:,:,:max_examples_to_train,:]\n",
    "ripser_euc_final_test  = np.load(ripser_euc_final_test_file, allow_pickle=True)[:,:,:max_examples_to_train,:]\n",
    "ripser_euc_final_train.shape"
   ]
  },
  {
   "cell_type": "code",
   "execution_count": 13,
   "metadata": {},
   "outputs": [
    {
     "data": {
      "text/plain": [
       "(1, 1, 3, 42)"
      ]
     },
     "execution_count": 13,
     "metadata": {},
     "output_type": "execute_result"
    }
   ],
   "source": [
    "ripser_sph_final_train = np.load(ripser_sph_final_train_file, allow_pickle=True)[:,:,:max_examples_to_train,:]\n",
    "ripser_sph_final_test  = np.load(ripser_sph_final_test_file, allow_pickle=True)[:,:,:max_examples_to_train,:]\n",
    "ripser_sph_final_train.shape"
   ]
  },
  {
   "cell_type": "code",
   "execution_count": 14,
   "metadata": {},
   "outputs": [
    {
     "data": {
      "text/plain": [
       "(1, 1, 3, 42)"
      ]
     },
     "execution_count": 14,
     "metadata": {},
     "output_type": "execute_result"
    }
   ],
   "source": [
    "ripser_euc_start_train = np.load(ripser_euc_start_train_file, allow_pickle=True)[:,:,:max_examples_to_train,:]\n",
    "ripser_euc_start_test  = np.load(ripser_euc_start_test_file, allow_pickle=True)[:,:,:max_examples_to_train,:]\n",
    "ripser_euc_start_train.shape"
   ]
  },
  {
   "cell_type": "code",
   "execution_count": 15,
   "metadata": {},
   "outputs": [
    {
     "data": {
      "text/plain": [
       "(1, 1, 3, 42)"
      ]
     },
     "execution_count": 15,
     "metadata": {},
     "output_type": "execute_result"
    }
   ],
   "source": [
    "ripser_sph_start_train = np.load(ripser_sph_start_train_file, allow_pickle=True)[:,:,:max_examples_to_train,:]\n",
    "ripser_sph_start_test  = np.load(ripser_sph_start_test_file, allow_pickle=True)[:,:,:max_examples_to_train,:]\n",
    "ripser_sph_start_train.shape"
   ]
  },
  {
   "cell_type": "code",
   "execution_count": 16,
   "metadata": {
    "colab": {
     "base_uri": "https://localhost:8080/"
    },
    "id": "h6aex0nTEYjM",
    "outputId": "d068ada1-406a-40b1-b99e-cf3f6fcaf6b4"
   },
   "outputs": [
    {
     "data": {
      "text/plain": [
       "(12, 12, 6, 3)"
      ]
     },
     "execution_count": 16,
     "metadata": {},
     "output_type": "execute_result"
    }
   ],
   "source": [
    "templ_train = np.load(templ_train_file, allow_pickle=True)[:,:,:,:max_examples_to_train]\n",
    "templ_test  = np.load(templ_test_file, allow_pickle=True)[:,:,:,:max_examples_to_train]\n",
    "templ_train.shape"
   ]
  },
  {
   "cell_type": "code",
   "execution_count": 17,
   "metadata": {
    "id": "k2Etr3GwEYjN"
   },
   "outputs": [],
   "source": [
    "X_train = []\n",
    "for i in range(len(train_data)):\n",
    "    features = np.concatenate((old_features_train[:,:,:,i,:].flatten(),\n",
    "                               ripser_train[:,:,i,:].flatten(),\n",
    "                               ripser_euc_final_train[:,:,i,:].flatten(),\n",
    "                               ripser_euc_start_train[:,:,i,:].flatten(),\n",
    "                               ripser_sph_final_train[:,:,i,:].flatten(),\n",
    "                               ripser_sph_start_train[:,:,i,:].flatten(),\n",
    "                               templ_train[:,:,:,i].flatten()))\n",
    "    X_train.append(features)\n",
    "y_train = train_data[\"labels\"]\n",
    "\n",
    "X_test = []\n",
    "for i in range(len(test_data)):\n",
    "    features = np.concatenate((old_features_test[:,:,:,i,:].flatten(),\n",
    "                               ripser_test[:,:,i,:].flatten(),\n",
    "                               ripser_euc_final_test[:,:,i,:].flatten(),\n",
    "                               ripser_euc_start_test[:,:,i,:].flatten(),\n",
    "ripser_sph_final_test[:,:,i,:].flatten(),\n",
    "ripser_sph_start_test[:,:,i,:].flatten(),\n",
    "                               templ_test[:,:,:,i].flatten()))\n",
    "    X_test.append(features)\n",
    "y_test = test_data[\"labels\"]"
   ]
  },
  {
   "cell_type": "code",
   "execution_count": 18,
   "metadata": {
    "id": "uupZW5xrEYjO"
   },
   "outputs": [],
   "source": [
    "X_train = X_train[:max_examples_to_train]\n",
    "train_data = train_data[:max_examples_to_train]"
   ]
  },
  {
   "cell_type": "code",
   "execution_count": 19,
   "metadata": {
    "id": "qFct4hecEYjP"
   },
   "outputs": [],
   "source": [
    "try:\n",
    "    assert(len(train_data) == len(X_train))\n",
    "    assert(len(test_data) == len(X_test))\n",
    "except:\n",
    "    print(\"ASSERTION ERROR!!!\")"
   ]
  },
  {
   "cell_type": "markdown",
   "metadata": {
    "id": "0CdmOD_NEYjP"
   },
   "source": [
    "## LogReg by the feautres from all heads"
   ]
  },
  {
   "cell_type": "code",
   "execution_count": 20,
   "metadata": {
    "id": "-kuXP1KHEYjQ"
   },
   "outputs": [],
   "source": [
    "def pred_by_Xy(X_train, y_train, X_test, classifier, verbose=False, scale=True):\n",
    "\n",
    "    if scale:\n",
    "        scaler  = preprocessing.StandardScaler().fit(X_train)\n",
    "        X_train = scaler.transform(X_train)\n",
    "\n",
    "    classifier.fit(X_train, y_train)\n",
    "    \n",
    "    if verbose:\n",
    "        print(\"train matt:\", matthews_corrcoef(y_train, classifier.predict(X_train)))\n",
    "        print(\"train acc: \", accuracy_score(y_train, classifier.predict(X_train)))\n",
    "    \n",
    "    if scale:\n",
    "        X_test = scaler.transform(X_test)\n",
    "        \n",
    "    return classifier.predict(X_test), \\\n",
    "           matthews_corrcoef(y_train, classifier.predict(X_train)), \\\n",
    "           accuracy_score(y_train, classifier.predict(X_train))"
   ]
  },
  {
   "cell_type": "code",
   "execution_count": 21,
   "metadata": {
    "id": "DFklD__eEYjQ"
   },
   "outputs": [],
   "source": [
    "classifier = linear_model.LogisticRegression(solver=solver)\n",
    "\n",
    "# The classifier with concrete hyperparameters values, which you should insert here.\n",
    "# For grid search of hyperparameters - see below."
   ]
  },
  {
   "cell_type": "markdown",
   "metadata": {
    "id": "SPkqW1BAEYjQ"
   },
   "source": [
    "## Grid Search of hyperparameters. Use it on the dev/vaild set!\n",
    "\n",
    "(**Reminder**: Don't tune hyperparameters on the test set, to not overfit hyperparameters. Tune hyperparameters on the dev/valid set, and then use the best ones on the test set.)"
   ]
  },
  {
   "cell_type": "code",
   "execution_count": 22,
   "metadata": {
    "colab": {
     "base_uri": "https://localhost:8080/"
    },
    "id": "0TvWel_QEYjR",
    "outputId": "eb1ae283-95eb-4081-c37d-349f6caf844e"
   },
   "outputs": [
    {
     "name": "stdout",
     "output_type": "stream",
     "text": [
      "[0.0001, 0.0005, 0.001, 0.005, 0.01, 0.05, 0.1, 0.5, 1, 2] [1, 2, 3, 5, 10, 25, 50, 100, 500, 1000, 2000]\n"
     ]
    }
   ],
   "source": [
    "C_range = [0.0001, 0.0005, 0.001, 0.005, 0.01, 0.05, 0.1, 0.5, 1, 2]\n",
    "max_iter_range = [1, 2, 3, 5, 10, 25, 50, 100, 500, 1000, 2000]\n",
    "\n",
    "print(C_range, max_iter_range)"
   ]
  },
  {
   "cell_type": "code",
   "execution_count": 23,
   "metadata": {
    "colab": {
     "base_uri": "https://localhost:8080/",
     "height": 49,
     "referenced_widgets": [
      "9eeb9b2de52c415e949301b3d648c979",
      "4a5842833faf44e7816bcb3760697bc5",
      "4d1e4aa5596941d7bb367a4c4bafeaf5",
      "1996b92cd2a645d7af96b68521867c9c",
      "af56979fb9274c15be3c357342cce280",
      "2fc2ccaf6e404593ac06842b580ebf1f",
      "c6bf73b99e8f4c07b4664e77710f78ad",
      "5f27f22b239e42b38a9f8431f75487f9",
      "016c18aca1194b99b5d285326fffbf66",
      "9ba10435afd24c389c9f3780b849c2d1",
      "ad757030dbca4f269122f5d93bd54c3e"
     ]
    },
    "id": "V3p2vDLDEYjS",
    "outputId": "a7039a4c-e696-4284-c83c-2b83b936b8a6",
    "scrolled": true
   },
   "outputs": [
    {
     "data": {
      "application/vnd.jupyter.widget-view+json": {
       "model_id": "30f10844d7da487ca214c505d2ce496b",
       "version_major": 2,
       "version_minor": 0
      },
      "text/plain": [
       "  0%|          | 0/10 [00:00<?, ?it/s]"
      ]
     },
     "metadata": {},
     "output_type": "display_data"
    }
   ],
   "source": [
    "matt_scores = dict()\n",
    "acc_scores  = dict()\n",
    "matt_scores_train = dict()\n",
    "acc_scores_train  = dict()\n",
    "results     = dict()\n",
    "\n",
    "for C in tqdm(C_range):\n",
    "    for max_iter in max_iter_range:\n",
    "        classifier = linear_model.LogisticRegression(penalty='l2', C=C, max_iter=max_iter, dual=is_dual,\n",
    "                                                     solver=solver)\n",
    "\n",
    "        result, train_matt, train_acc = pred_by_Xy(X_train, y_train, X_test, classifier)\n",
    "        results[(C, max_iter)] = result\n",
    "\n",
    "        matt_scores_train[(C, max_iter)] = matthews_corrcoef(result, y_test)\n",
    "        acc_scores_train[(C, max_iter)]  = accuracy_score(result, y_test)\n",
    "\n",
    "        try:\n",
    "            matt_scores[(C, max_iter)] = matthews_corrcoef(result, y_test)\n",
    "            acc_scores[(C, max_iter)]  = accuracy_score(result, y_test)\n",
    "            #print(\"test matt: \", matthews_corrcoef(result, y_test))\n",
    "            #print(\"test acc:  \", accuracy_score(result, y_test))\n",
    "        except:\n",
    "            #print(\"Not labeled\")\n",
    "            pass"
   ]
  },
  {
   "cell_type": "markdown",
   "metadata": {
    "id": "MTqNlpeeEYjT"
   },
   "source": [
    "### Prints the list of hyperparameters and corresponding matthews corcoef / accuracy of LogReg, trained with these parameters"
   ]
  },
  {
   "cell_type": "code",
   "execution_count": 24,
   "metadata": {
    "colab": {
     "base_uri": "https://localhost:8080/",
     "referenced_widgets": [
      "1022d19b82b740feab74320644e1d12a"
     ]
    },
    "id": "hmcJtr0yEYjT",
    "outputId": "aaad5087-8e8d-4ab1-a72a-62d8ef532e53",
    "scrolled": true
   },
   "outputs": [
    {
     "data": {
      "application/vnd.jupyter.widget-view+json": {
       "model_id": "60f1e21bee4846f5a9c0c7d7eca37661",
       "version_major": 2,
       "version_minor": 0
      },
      "text/plain": [
       "  0%|          | 0/10 [00:00<?, ?it/s]"
      ]
     },
     "metadata": {},
     "output_type": "display_data"
    },
    {
     "name": "stdout",
     "output_type": "stream",
     "text": [
      "0.0001 1 , matt: 1.0\n",
      "0.0001 1 , acc : 1.0\n",
      "\n",
      "0.0001 2 , matt: 1.0\n",
      "0.0001 2 , acc : 1.0\n",
      "\n",
      "0.0001 3 , matt: 1.0\n",
      "0.0001 3 , acc : 1.0\n",
      "\n",
      "0.0001 5 , matt: 1.0\n",
      "0.0001 5 , acc : 1.0\n",
      "\n",
      "0.0001 10 , matt: 0.0\n",
      "0.0001 10 , acc : 0.6666666666666666\n",
      "\n",
      "0.0001 25 , matt: 0.0\n",
      "0.0001 25 , acc : 0.6666666666666666\n",
      "\n",
      "0.0001 50 , matt: 0.0\n",
      "0.0001 50 , acc : 0.6666666666666666\n",
      "\n",
      "0.0001 100 , matt: 0.0\n",
      "0.0001 100 , acc : 0.6666666666666666\n",
      "\n",
      "0.0001 500 , matt: 0.0\n",
      "0.0001 500 , acc : 0.6666666666666666\n",
      "\n",
      "0.0001 1000 , matt: 0.0\n",
      "0.0001 1000 , acc : 0.6666666666666666\n",
      "\n",
      "0.0001 2000 , matt: 0.0\n",
      "0.0001 2000 , acc : 0.6666666666666666\n",
      "\n",
      "0.0005 1 , matt: 1.0\n",
      "0.0005 1 , acc : 1.0\n",
      "\n",
      "0.0005 2 , matt: 1.0\n",
      "0.0005 2 , acc : 1.0\n",
      "\n",
      "0.0005 3 , matt: 1.0\n",
      "0.0005 3 , acc : 1.0\n",
      "\n",
      "0.0005 5 , matt: 1.0\n",
      "0.0005 5 , acc : 1.0\n",
      "\n",
      "0.0005 10 , matt: 1.0\n",
      "0.0005 10 , acc : 1.0\n",
      "\n",
      "0.0005 25 , matt: 1.0\n",
      "0.0005 25 , acc : 1.0\n",
      "\n",
      "0.0005 50 , matt: 1.0\n",
      "0.0005 50 , acc : 1.0\n",
      "\n",
      "0.0005 100 , matt: 1.0\n",
      "0.0005 100 , acc : 1.0\n",
      "\n",
      "0.0005 500 , matt: 1.0\n",
      "0.0005 500 , acc : 1.0\n",
      "\n",
      "0.0005 1000 , matt: 1.0\n",
      "0.0005 1000 , acc : 1.0\n",
      "\n",
      "0.0005 2000 , matt: 1.0\n",
      "0.0005 2000 , acc : 1.0\n",
      "\n",
      "0.001 1 , matt: 1.0\n",
      "0.001 1 , acc : 1.0\n",
      "\n",
      "0.001 2 , matt: 1.0\n",
      "0.001 2 , acc : 1.0\n",
      "\n",
      "0.001 3 , matt: 1.0\n",
      "0.001 3 , acc : 1.0\n",
      "\n",
      "0.001 5 , matt: 1.0\n",
      "0.001 5 , acc : 1.0\n",
      "\n",
      "0.001 10 , matt: 1.0\n",
      "0.001 10 , acc : 1.0\n",
      "\n",
      "0.001 25 , matt: 1.0\n",
      "0.001 25 , acc : 1.0\n",
      "\n",
      "0.001 50 , matt: 1.0\n",
      "0.001 50 , acc : 1.0\n",
      "\n",
      "0.001 100 , matt: 1.0\n",
      "0.001 100 , acc : 1.0\n",
      "\n",
      "0.001 500 , matt: 1.0\n",
      "0.001 500 , acc : 1.0\n",
      "\n",
      "0.001 1000 , matt: 1.0\n",
      "0.001 1000 , acc : 1.0\n",
      "\n",
      "0.001 2000 , matt: 1.0\n",
      "0.001 2000 , acc : 1.0\n",
      "\n",
      "0.005 1 , matt: 1.0\n",
      "0.005 1 , acc : 1.0\n",
      "\n",
      "0.005 2 , matt: 1.0\n",
      "0.005 2 , acc : 1.0\n",
      "\n",
      "0.005 3 , matt: 1.0\n",
      "0.005 3 , acc : 1.0\n",
      "\n",
      "0.005 5 , matt: 1.0\n",
      "0.005 5 , acc : 1.0\n",
      "\n",
      "0.005 10 , matt: 1.0\n",
      "0.005 10 , acc : 1.0\n",
      "\n",
      "0.005 25 , matt: 1.0\n",
      "0.005 25 , acc : 1.0\n",
      "\n",
      "0.005 50 , matt: 1.0\n",
      "0.005 50 , acc : 1.0\n",
      "\n",
      "0.005 100 , matt: 1.0\n",
      "0.005 100 , acc : 1.0\n",
      "\n",
      "0.005 500 , matt: 1.0\n",
      "0.005 500 , acc : 1.0\n",
      "\n",
      "0.005 1000 , matt: 1.0\n",
      "0.005 1000 , acc : 1.0\n",
      "\n",
      "0.005 2000 , matt: 1.0\n",
      "0.005 2000 , acc : 1.0\n",
      "\n",
      "0.01 1 , matt: 1.0\n",
      "0.01 1 , acc : 1.0\n",
      "\n",
      "0.01 2 , matt: 1.0\n",
      "0.01 2 , acc : 1.0\n",
      "\n",
      "0.01 3 , matt: 1.0\n",
      "0.01 3 , acc : 1.0\n",
      "\n",
      "0.01 5 , matt: 1.0\n",
      "0.01 5 , acc : 1.0\n",
      "\n",
      "0.01 10 , matt: 1.0\n",
      "0.01 10 , acc : 1.0\n",
      "\n",
      "0.01 25 , matt: 1.0\n",
      "0.01 25 , acc : 1.0\n",
      "\n",
      "0.01 50 , matt: 1.0\n",
      "0.01 50 , acc : 1.0\n",
      "\n",
      "0.01 100 , matt: 1.0\n",
      "0.01 100 , acc : 1.0\n",
      "\n",
      "0.01 500 , matt: 1.0\n",
      "0.01 500 , acc : 1.0\n",
      "\n",
      "0.01 1000 , matt: 1.0\n",
      "0.01 1000 , acc : 1.0\n",
      "\n",
      "0.01 2000 , matt: 1.0\n",
      "0.01 2000 , acc : 1.0\n",
      "\n",
      "0.05 1 , matt: 1.0\n",
      "0.05 1 , acc : 1.0\n",
      "\n",
      "0.05 2 , matt: 1.0\n",
      "0.05 2 , acc : 1.0\n",
      "\n",
      "0.05 3 , matt: 1.0\n",
      "0.05 3 , acc : 1.0\n",
      "\n",
      "0.05 5 , matt: 1.0\n",
      "0.05 5 , acc : 1.0\n",
      "\n",
      "0.05 10 , matt: 1.0\n",
      "0.05 10 , acc : 1.0\n",
      "\n",
      "0.05 25 , matt: 1.0\n",
      "0.05 25 , acc : 1.0\n",
      "\n",
      "0.05 50 , matt: 1.0\n",
      "0.05 50 , acc : 1.0\n",
      "\n",
      "0.05 100 , matt: 1.0\n",
      "0.05 100 , acc : 1.0\n",
      "\n",
      "0.05 500 , matt: 1.0\n",
      "0.05 500 , acc : 1.0\n",
      "\n",
      "0.05 1000 , matt: 1.0\n",
      "0.05 1000 , acc : 1.0\n",
      "\n",
      "0.05 2000 , matt: 1.0\n",
      "0.05 2000 , acc : 1.0\n",
      "\n",
      "0.1 1 , matt: 1.0\n",
      "0.1 1 , acc : 1.0\n",
      "\n",
      "0.1 2 , matt: 1.0\n",
      "0.1 2 , acc : 1.0\n",
      "\n",
      "0.1 3 , matt: 1.0\n",
      "0.1 3 , acc : 1.0\n",
      "\n",
      "0.1 5 , matt: 1.0\n",
      "0.1 5 , acc : 1.0\n",
      "\n",
      "0.1 10 , matt: 1.0\n",
      "0.1 10 , acc : 1.0\n",
      "\n",
      "0.1 25 , matt: 1.0\n",
      "0.1 25 , acc : 1.0\n",
      "\n",
      "0.1 50 , matt: 1.0\n",
      "0.1 50 , acc : 1.0\n",
      "\n",
      "0.1 100 , matt: 1.0\n",
      "0.1 100 , acc : 1.0\n",
      "\n",
      "0.1 500 , matt: 1.0\n",
      "0.1 500 , acc : 1.0\n",
      "\n",
      "0.1 1000 , matt: 1.0\n",
      "0.1 1000 , acc : 1.0\n",
      "\n",
      "0.1 2000 , matt: 1.0\n",
      "0.1 2000 , acc : 1.0\n",
      "\n",
      "0.5 1 , matt: 1.0\n",
      "0.5 1 , acc : 1.0\n",
      "\n",
      "0.5 2 , matt: 1.0\n",
      "0.5 2 , acc : 1.0\n",
      "\n",
      "0.5 3 , matt: 1.0\n",
      "0.5 3 , acc : 1.0\n",
      "\n",
      "0.5 5 , matt: 1.0\n",
      "0.5 5 , acc : 1.0\n",
      "\n",
      "0.5 10 , matt: 1.0\n",
      "0.5 10 , acc : 1.0\n",
      "\n",
      "0.5 25 , matt: 1.0\n",
      "0.5 25 , acc : 1.0\n",
      "\n",
      "0.5 50 , matt: 1.0\n",
      "0.5 50 , acc : 1.0\n",
      "\n",
      "0.5 100 , matt: 1.0\n",
      "0.5 100 , acc : 1.0\n",
      "\n",
      "0.5 500 , matt: 1.0\n",
      "0.5 500 , acc : 1.0\n",
      "\n",
      "0.5 1000 , matt: 1.0\n",
      "0.5 1000 , acc : 1.0\n",
      "\n",
      "0.5 2000 , matt: 1.0\n",
      "0.5 2000 , acc : 1.0\n",
      "\n",
      "1 1 , matt: 1.0\n",
      "1 1 , acc : 1.0\n",
      "\n",
      "1 2 , matt: 1.0\n",
      "1 2 , acc : 1.0\n",
      "\n",
      "1 3 , matt: 1.0\n",
      "1 3 , acc : 1.0\n",
      "\n",
      "1 5 , matt: 1.0\n",
      "1 5 , acc : 1.0\n",
      "\n",
      "1 10 , matt: 1.0\n",
      "1 10 , acc : 1.0\n",
      "\n",
      "1 25 , matt: 1.0\n",
      "1 25 , acc : 1.0\n",
      "\n",
      "1 50 , matt: 1.0\n",
      "1 50 , acc : 1.0\n",
      "\n",
      "1 100 , matt: 1.0\n",
      "1 100 , acc : 1.0\n",
      "\n",
      "1 500 , matt: 1.0\n",
      "1 500 , acc : 1.0\n",
      "\n",
      "1 1000 , matt: 1.0\n",
      "1 1000 , acc : 1.0\n",
      "\n",
      "1 2000 , matt: 1.0\n",
      "1 2000 , acc : 1.0\n",
      "\n",
      "2 1 , matt: 1.0\n",
      "2 1 , acc : 1.0\n",
      "\n",
      "2 2 , matt: 1.0\n",
      "2 2 , acc : 1.0\n",
      "\n",
      "2 3 , matt: 1.0\n",
      "2 3 , acc : 1.0\n",
      "\n",
      "2 5 , matt: 1.0\n",
      "2 5 , acc : 1.0\n",
      "\n",
      "2 10 , matt: 1.0\n",
      "2 10 , acc : 1.0\n",
      "\n",
      "2 25 , matt: 1.0\n",
      "2 25 , acc : 1.0\n",
      "\n",
      "2 50 , matt: 1.0\n",
      "2 50 , acc : 1.0\n",
      "\n",
      "2 100 , matt: 1.0\n",
      "2 100 , acc : 1.0\n",
      "\n",
      "2 500 , matt: 1.0\n",
      "2 500 , acc : 1.0\n",
      "\n",
      "2 1000 , matt: 1.0\n",
      "2 1000 , acc : 1.0\n",
      "\n",
      "2 2000 , matt: 1.0\n",
      "2 2000 , acc : 1.0\n",
      "\n",
      "---\n",
      "\n",
      "The best Acc score:\n",
      "\n",
      "1.0\n",
      "\n",
      "The best Matthew score:\n",
      "\n",
      "1.0\n"
     ]
    }
   ],
   "source": [
    "try:\n",
    "    for C in tqdm(C_range):\n",
    "        for max_iter in max_iter_range:\n",
    "            print(C, max_iter, \", matt:\", matt_scores[(C, max_iter)])\n",
    "            print(C, max_iter, \", acc :\", acc_scores[(C, max_iter)])\n",
    "            print()\n",
    "    print(\"---\")\n",
    "    print()\n",
    "    print(\"The best Acc score:\")\n",
    "    print()\n",
    "    print(max(acc_scores.values()))\n",
    "    print()\n",
    "    print(\"The best Matthew score:\")\n",
    "    print()\n",
    "    print(max(matt_scores.values()))\n",
    "\n",
    "except:\n",
    "    print(\"Data is not labeled\")"
   ]
  },
  {
   "cell_type": "code",
   "execution_count": null,
   "metadata": {
    "id": "BDEGQEVcEYjT"
   },
   "outputs": [],
   "source": []
  }
 ],
 "metadata": {
  "accelerator": "GPU",
  "colab": {
   "name": "features_prediction.ipynb",
   "provenance": []
  },
  "kernelspec": {
   "display_name": "Python 3 (ipykernel)",
   "language": "python",
   "name": "python3"
  },
  "language_info": {
   "codemirror_mode": {
    "name": "ipython",
    "version": 3
   },
   "file_extension": ".py",
   "mimetype": "text/x-python",
   "name": "python",
   "nbconvert_exporter": "python",
   "pygments_lexer": "ipython3",
   "version": "3.8.10"
  },
  "pycharm": {
   "stem_cell": {
    "cell_type": "raw",
    "metadata": {
     "collapsed": false
    },
    "source": []
   }
  },
  "widgets": {
   "application/vnd.jupyter.widget-state+json": {
    "016c18aca1194b99b5d285326fffbf66": {
     "model_module": "@jupyter-widgets/controls",
     "model_module_version": "1.5.0",
     "model_name": "ProgressStyleModel",
     "state": {
      "_model_module": "@jupyter-widgets/controls",
      "_model_module_version": "1.5.0",
      "_model_name": "ProgressStyleModel",
      "_view_count": null,
      "_view_module": "@jupyter-widgets/base",
      "_view_module_version": "1.2.0",
      "_view_name": "StyleView",
      "bar_color": null,
      "description_width": ""
     }
    },
    "1996b92cd2a645d7af96b68521867c9c": {
     "model_module": "@jupyter-widgets/controls",
     "model_module_version": "1.5.0",
     "model_name": "HTMLModel",
     "state": {
      "_dom_classes": [],
      "_model_module": "@jupyter-widgets/controls",
      "_model_module_version": "1.5.0",
      "_model_name": "HTMLModel",
      "_view_count": null,
      "_view_module": "@jupyter-widgets/controls",
      "_view_module_version": "1.5.0",
      "_view_name": "HTMLView",
      "description": "",
      "description_tooltip": null,
      "layout": "IPY_MODEL_9ba10435afd24c389c9f3780b849c2d1",
      "placeholder": "​",
      "style": "IPY_MODEL_ad757030dbca4f269122f5d93bd54c3e",
      "value": " 10/10 [00:11&lt;00:00,  1.24s/it]"
     }
    },
    "2fc2ccaf6e404593ac06842b580ebf1f": {
     "model_module": "@jupyter-widgets/base",
     "model_module_version": "1.2.0",
     "model_name": "LayoutModel",
     "state": {
      "_model_module": "@jupyter-widgets/base",
      "_model_module_version": "1.2.0",
      "_model_name": "LayoutModel",
      "_view_count": null,
      "_view_module": "@jupyter-widgets/base",
      "_view_module_version": "1.2.0",
      "_view_name": "LayoutView",
      "align_content": null,
      "align_items": null,
      "align_self": null,
      "border": null,
      "bottom": null,
      "display": null,
      "flex": null,
      "flex_flow": null,
      "grid_area": null,
      "grid_auto_columns": null,
      "grid_auto_flow": null,
      "grid_auto_rows": null,
      "grid_column": null,
      "grid_gap": null,
      "grid_row": null,
      "grid_template_areas": null,
      "grid_template_columns": null,
      "grid_template_rows": null,
      "height": null,
      "justify_content": null,
      "justify_items": null,
      "left": null,
      "margin": null,
      "max_height": null,
      "max_width": null,
      "min_height": null,
      "min_width": null,
      "object_fit": null,
      "object_position": null,
      "order": null,
      "overflow": null,
      "overflow_x": null,
      "overflow_y": null,
      "padding": null,
      "right": null,
      "top": null,
      "visibility": null,
      "width": null
     }
    },
    "4a5842833faf44e7816bcb3760697bc5": {
     "model_module": "@jupyter-widgets/controls",
     "model_module_version": "1.5.0",
     "model_name": "HTMLModel",
     "state": {
      "_dom_classes": [],
      "_model_module": "@jupyter-widgets/controls",
      "_model_module_version": "1.5.0",
      "_model_name": "HTMLModel",
      "_view_count": null,
      "_view_module": "@jupyter-widgets/controls",
      "_view_module_version": "1.5.0",
      "_view_name": "HTMLView",
      "description": "",
      "description_tooltip": null,
      "layout": "IPY_MODEL_2fc2ccaf6e404593ac06842b580ebf1f",
      "placeholder": "​",
      "style": "IPY_MODEL_c6bf73b99e8f4c07b4664e77710f78ad",
      "value": "100%"
     }
    },
    "4d1e4aa5596941d7bb367a4c4bafeaf5": {
     "model_module": "@jupyter-widgets/controls",
     "model_module_version": "1.5.0",
     "model_name": "FloatProgressModel",
     "state": {
      "_dom_classes": [],
      "_model_module": "@jupyter-widgets/controls",
      "_model_module_version": "1.5.0",
      "_model_name": "FloatProgressModel",
      "_view_count": null,
      "_view_module": "@jupyter-widgets/controls",
      "_view_module_version": "1.5.0",
      "_view_name": "ProgressView",
      "bar_style": "success",
      "description": "",
      "description_tooltip": null,
      "layout": "IPY_MODEL_5f27f22b239e42b38a9f8431f75487f9",
      "max": 10,
      "min": 0,
      "orientation": "horizontal",
      "style": "IPY_MODEL_016c18aca1194b99b5d285326fffbf66",
      "value": 10
     }
    },
    "5f27f22b239e42b38a9f8431f75487f9": {
     "model_module": "@jupyter-widgets/base",
     "model_module_version": "1.2.0",
     "model_name": "LayoutModel",
     "state": {
      "_model_module": "@jupyter-widgets/base",
      "_model_module_version": "1.2.0",
      "_model_name": "LayoutModel",
      "_view_count": null,
      "_view_module": "@jupyter-widgets/base",
      "_view_module_version": "1.2.0",
      "_view_name": "LayoutView",
      "align_content": null,
      "align_items": null,
      "align_self": null,
      "border": null,
      "bottom": null,
      "display": null,
      "flex": null,
      "flex_flow": null,
      "grid_area": null,
      "grid_auto_columns": null,
      "grid_auto_flow": null,
      "grid_auto_rows": null,
      "grid_column": null,
      "grid_gap": null,
      "grid_row": null,
      "grid_template_areas": null,
      "grid_template_columns": null,
      "grid_template_rows": null,
      "height": null,
      "justify_content": null,
      "justify_items": null,
      "left": null,
      "margin": null,
      "max_height": null,
      "max_width": null,
      "min_height": null,
      "min_width": null,
      "object_fit": null,
      "object_position": null,
      "order": null,
      "overflow": null,
      "overflow_x": null,
      "overflow_y": null,
      "padding": null,
      "right": null,
      "top": null,
      "visibility": null,
      "width": null
     }
    },
    "9ba10435afd24c389c9f3780b849c2d1": {
     "model_module": "@jupyter-widgets/base",
     "model_module_version": "1.2.0",
     "model_name": "LayoutModel",
     "state": {
      "_model_module": "@jupyter-widgets/base",
      "_model_module_version": "1.2.0",
      "_model_name": "LayoutModel",
      "_view_count": null,
      "_view_module": "@jupyter-widgets/base",
      "_view_module_version": "1.2.0",
      "_view_name": "LayoutView",
      "align_content": null,
      "align_items": null,
      "align_self": null,
      "border": null,
      "bottom": null,
      "display": null,
      "flex": null,
      "flex_flow": null,
      "grid_area": null,
      "grid_auto_columns": null,
      "grid_auto_flow": null,
      "grid_auto_rows": null,
      "grid_column": null,
      "grid_gap": null,
      "grid_row": null,
      "grid_template_areas": null,
      "grid_template_columns": null,
      "grid_template_rows": null,
      "height": null,
      "justify_content": null,
      "justify_items": null,
      "left": null,
      "margin": null,
      "max_height": null,
      "max_width": null,
      "min_height": null,
      "min_width": null,
      "object_fit": null,
      "object_position": null,
      "order": null,
      "overflow": null,
      "overflow_x": null,
      "overflow_y": null,
      "padding": null,
      "right": null,
      "top": null,
      "visibility": null,
      "width": null
     }
    },
    "9eeb9b2de52c415e949301b3d648c979": {
     "model_module": "@jupyter-widgets/controls",
     "model_module_version": "1.5.0",
     "model_name": "HBoxModel",
     "state": {
      "_dom_classes": [],
      "_model_module": "@jupyter-widgets/controls",
      "_model_module_version": "1.5.0",
      "_model_name": "HBoxModel",
      "_view_count": null,
      "_view_module": "@jupyter-widgets/controls",
      "_view_module_version": "1.5.0",
      "_view_name": "HBoxView",
      "box_style": "",
      "children": [
       "IPY_MODEL_4a5842833faf44e7816bcb3760697bc5",
       "IPY_MODEL_4d1e4aa5596941d7bb367a4c4bafeaf5",
       "IPY_MODEL_1996b92cd2a645d7af96b68521867c9c"
      ],
      "layout": "IPY_MODEL_af56979fb9274c15be3c357342cce280"
     }
    },
    "ad757030dbca4f269122f5d93bd54c3e": {
     "model_module": "@jupyter-widgets/controls",
     "model_module_version": "1.5.0",
     "model_name": "DescriptionStyleModel",
     "state": {
      "_model_module": "@jupyter-widgets/controls",
      "_model_module_version": "1.5.0",
      "_model_name": "DescriptionStyleModel",
      "_view_count": null,
      "_view_module": "@jupyter-widgets/base",
      "_view_module_version": "1.2.0",
      "_view_name": "StyleView",
      "description_width": ""
     }
    },
    "af56979fb9274c15be3c357342cce280": {
     "model_module": "@jupyter-widgets/base",
     "model_module_version": "1.2.0",
     "model_name": "LayoutModel",
     "state": {
      "_model_module": "@jupyter-widgets/base",
      "_model_module_version": "1.2.0",
      "_model_name": "LayoutModel",
      "_view_count": null,
      "_view_module": "@jupyter-widgets/base",
      "_view_module_version": "1.2.0",
      "_view_name": "LayoutView",
      "align_content": null,
      "align_items": null,
      "align_self": null,
      "border": null,
      "bottom": null,
      "display": null,
      "flex": null,
      "flex_flow": null,
      "grid_area": null,
      "grid_auto_columns": null,
      "grid_auto_flow": null,
      "grid_auto_rows": null,
      "grid_column": null,
      "grid_gap": null,
      "grid_row": null,
      "grid_template_areas": null,
      "grid_template_columns": null,
      "grid_template_rows": null,
      "height": null,
      "justify_content": null,
      "justify_items": null,
      "left": null,
      "margin": null,
      "max_height": null,
      "max_width": null,
      "min_height": null,
      "min_width": null,
      "object_fit": null,
      "object_position": null,
      "order": null,
      "overflow": null,
      "overflow_x": null,
      "overflow_y": null,
      "padding": null,
      "right": null,
      "top": null,
      "visibility": null,
      "width": null
     }
    },
    "c6bf73b99e8f4c07b4664e77710f78ad": {
     "model_module": "@jupyter-widgets/controls",
     "model_module_version": "1.5.0",
     "model_name": "DescriptionStyleModel",
     "state": {
      "_model_module": "@jupyter-widgets/controls",
      "_model_module_version": "1.5.0",
      "_model_name": "DescriptionStyleModel",
      "_view_count": null,
      "_view_module": "@jupyter-widgets/base",
      "_view_module_version": "1.2.0",
      "_view_name": "StyleView",
      "description_width": ""
     }
    }
   }
  }
 },
 "nbformat": 4,
 "nbformat_minor": 4
}
